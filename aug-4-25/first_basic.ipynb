{
 "cells": [
  {
   "cell_type": "code",
   "execution_count": 124,
   "id": "be8c2380",
   "metadata": {},
   "outputs": [],
   "source": [
    "x = 5\n",
    "z = \"abc\"\n",
    "y = \"abc efg\"\n",
    "p = \"ab bc ca ab\"\n",
    "a = \"               xyz     \"\n",
    "b = \"  ab  abc \"\n",
    "m = (\"ab\" , \"cd\" , \"ef\")\n",
    "n = \"/\"\n",
    "o = y.join([\"1\", \"2\", \"3\"])\n",
    "xx = [\"ab\"]\n",
    "zz = xx\n",
    "yy = [\"ab\"]\n"
   ]
  },
  {
   "cell_type": "code",
   "execution_count": 145,
   "id": "af16f67c",
   "metadata": {},
   "outputs": [
    {
     "name": "stdout",
     "output_type": "stream",
     "text": [
      "Length of string y: 7\n",
      "Character at index 2 of y: c\n",
      "First 3 characters of y (y[0:3]): abc\n",
      "First 5 characters of y (y[:5]): abc e\n",
      "Characters from index 2 to end of y (y[2:]): c efg\n",
      "Characters from -4 to -2 of y (y[-4:-2]):  e\n",
      "Capitalized z ('abc'): Abc\n",
      "Count of 'ab' in p ('ab bc ca ab'): 2\n",
      "Position of 'ca' in p ('ab bc ca ab'): 6\n",
      "Replace 'ab' with 'cd' in p: cd bc ca cd\n",
      "Split p by space: ['ab', 'bc', 'ca', 'ab']\n",
      "Split p by 'a': ['', 'b bc c', ' ', 'b']\n",
      "String a with whitespace stripped: xyz\n",
      "String b with whitespace stripped: ab  abc\n",
      "Result of y.join(['1', '2', '3']): 1abc efg2abc efg3\n",
      "False\n",
      "True\n",
      "True\n",
      "True\n",
      "False\n"
     ]
    }
   ],
   "source": [
    "# String operations demonstration\n",
    "\n",
    "# Getting the length of string y (\"abc efg\")\n",
    "print(\"Length of string y:\", len(y))\n",
    "\n",
    "# Accessing single character at index 2 (third character) of string y\n",
    "print(\"Character at index 2 of y:\", y[2])\n",
    "\n",
    "# Slicing string y from index 0 to 2 (first 3 characters)\n",
    "print(\"First 3 characters of y (y[0:3]):\", y[0:3])\n",
    "\n",
    "# Slicing string y from beginning to index 4 (first 5 characters)\n",
    "print(\"First 5 characters of y (y[:5]):\", y[:5])\n",
    "\n",
    "# Slicing string y from index 2 to end\n",
    "print(\"Characters from index 2 to end of y (y[2:]):\", y[2:])\n",
    "\n",
    "# Slicing with negative indices (4th last to 2nd last characters)\n",
    "print(\"Characters from -4 to -2 of y (y[-4:-2]):\", y[-4 : -2])\n",
    "\n",
    "# String capitalization - makes first letter uppercase\n",
    "print(\"Capitalized z ('abc'):\", z.capitalize())\n",
    "\n",
    "# Counting occurrences of substring \"ab\" in string p\n",
    "print(\"Count of 'ab' in p ('ab bc ca ab'):\", p.count(\"ab\"))\n",
    "\n",
    "# Finding the position of substring \"ca\" in string p\n",
    "print(\"Position of 'ca' in p ('ab bc ca ab'):\", p.find(\"ca\"))\n",
    "\n",
    "# Replacing all occurrences of \"ab\" with \"cd\" in string p\n",
    "print(\"Replace 'ab' with 'cd' in p:\", p.replace(\"ab\", \"cd\"))\n",
    "\n",
    "# Splitting string p by space character\n",
    "print(\"Split p by space:\", p.split(\" \"))\n",
    "\n",
    "# Splitting string p by 'a' character\n",
    "print(\"Split p by 'a':\", p.split(\"a\"))\n",
    "\n",
    "# Removing leading and trailing whitespace from string a\n",
    "print(\"String a with whitespace stripped:\", a.strip())\n",
    "\n",
    "# Removing leading and trailing whitespace from string b\n",
    "print(\"String b with whitespace stripped:\", b.strip())\n",
    "\n",
    "# Using join method to join elements of a list with string y as separator\n",
    "# join() combines all elements in an iterable with the string as a separator\n",
    "print(\"Result of y.join(['1', '2', '3']):\", o)\n",
    "\n",
    "#\n",
    "print(xx is yy)\n",
    "print(xx is zz)\n",
    "print(xx is not y)\n",
    "print(\"ab\" in m)\n",
    "print(\"ab\" not in m)"
   ]
  },
  {
   "cell_type": "code",
   "execution_count": 126,
   "id": "de02b50f",
   "metadata": {},
   "outputs": [],
   "source": [
    "#membership Operator\n",
    "a = 10\n",
    "b = 2"
   ]
  },
  {
   "cell_type": "code",
   "execution_count": 147,
   "id": "e4c0cede",
   "metadata": {},
   "outputs": [
    {
     "name": "stdout",
     "output_type": "stream",
     "text": [
      "a is greater than b\n"
     ]
    }
   ],
   "source": [
    "if a > b:\n",
    "    print(\"a is greater than b\")\n",
    "elif b > a:\n",
    "    print(\"b is greater than a\")\n",
    "else:\n",
    "    print(\"a is equal to b\")"
   ]
  },
  {
   "cell_type": "code",
   "execution_count": 128,
   "id": "ee97c508",
   "metadata": {},
   "outputs": [
    {
     "name": "stdout",
     "output_type": "stream",
     "text": [
      "y > x\n"
     ]
    }
   ],
   "source": [
    "#short \n",
    "x = 7\n",
    "y = 14\n",
    "print(\"y > x\") if y > x else print(\"x > y\")"
   ]
  },
  {
   "cell_type": "code",
   "execution_count": 129,
   "id": "b1fa905f",
   "metadata": {},
   "outputs": [
    {
     "name": "stdout",
     "output_type": "stream",
     "text": [
      "1\n",
      "2\n",
      "3\n",
      "4\n",
      "5\n",
      "6\n",
      "7\n",
      "8\n",
      "9\n"
     ]
    }
   ],
   "source": [
    "#while loop\n",
    "i = 1\n",
    "\n",
    "while i < 10:\n",
    "    print(i)\n",
    "    i += 1"
   ]
  },
  {
   "cell_type": "code",
   "execution_count": 130,
   "id": "e510324c",
   "metadata": {},
   "outputs": [
    {
     "name": "stdout",
     "output_type": "stream",
     "text": [
      "1\n",
      "2\n",
      "3\n",
      "4\n"
     ]
    }
   ],
   "source": [
    "#forEach\n",
    "x = [1 , 2, 3 , 4]\n",
    "\n",
    "for i in x:\n",
    "    print(i)"
   ]
  },
  {
   "cell_type": "code",
   "execution_count": 131,
   "id": "ea9be3b3",
   "metadata": {},
   "outputs": [
    {
     "name": "stdout",
     "output_type": "stream",
     "text": [
      "0\n",
      "1\n",
      "2\n"
     ]
    }
   ],
   "source": [
    "for i in range(3):\n",
    "    print(i)"
   ]
  },
  {
   "cell_type": "code",
   "execution_count": 132,
   "id": "0ea97926",
   "metadata": {},
   "outputs": [],
   "source": [
    "#function\n",
    "x = 10\n",
    "def f1():\n",
    "    x = 7\n",
    "    print(x)"
   ]
  },
  {
   "cell_type": "code",
   "execution_count": 133,
   "id": "2e47939d",
   "metadata": {},
   "outputs": [
    {
     "name": "stdout",
     "output_type": "stream",
     "text": [
      "['ab', 'bc', 'ca']\n",
      "['ab', 'bc']\n"
     ]
    }
   ],
   "source": [
    "xxx = [\"ab\" , \"bc\" , \"ca\"]\n",
    "yyy = [\"bc\" , 2 , 2.5]\n",
    "\n",
    "print(xxx)\n",
    "print(xxx[0:2])\n"
   ]
  }
 ],
 "metadata": {
  "kernelspec": {
   "display_name": "ml_env",
   "language": "python",
   "name": "python3"
  },
  "language_info": {
   "codemirror_mode": {
    "name": "ipython",
    "version": 3
   },
   "file_extension": ".py",
   "mimetype": "text/x-python",
   "name": "python",
   "nbconvert_exporter": "python",
   "pygments_lexer": "ipython3",
   "version": "3.13.5"
  }
 },
 "nbformat": 4,
 "nbformat_minor": 5
}
